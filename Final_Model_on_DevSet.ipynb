{
  "cells": [
    {
      "cell_type": "code",
      "execution_count": 1,
      "metadata": {
        "colab": {
          "base_uri": "https://localhost:8080/"
        },
        "id": "O1WIr4KP9qw4",
        "outputId": "05ef9704-75d7-4ea4-b7ff-5591d10565ad"
      },
      "outputs": [
        {
          "name": "stdout",
          "output_type": "stream",
          "text": [
            "Requirement already satisfied: evaluate in /vol/bitbucket/lb124/DL_CW_2_lb124/.venv/lib/python3.12/site-packages (0.4.3)\n",
            "Requirement already satisfied: datasets>=2.0.0 in /vol/bitbucket/lb124/DL_CW_2_lb124/.venv/lib/python3.12/site-packages (from evaluate) (3.3.1)\n",
            "Requirement already satisfied: numpy>=1.17 in /vol/bitbucket/lb124/DL_CW_2_lb124/.venv/lib/python3.12/site-packages (from evaluate) (2.2.3)\n",
            "Requirement already satisfied: dill in /vol/bitbucket/lb124/DL_CW_2_lb124/.venv/lib/python3.12/site-packages (from evaluate) (0.3.8)\n",
            "Requirement already satisfied: pandas in /vol/bitbucket/lb124/DL_CW_2_lb124/.venv/lib/python3.12/site-packages (from evaluate) (2.2.3)\n",
            "Requirement already satisfied: requests>=2.19.0 in /vol/bitbucket/lb124/DL_CW_2_lb124/.venv/lib/python3.12/site-packages (from evaluate) (2.32.3)\n",
            "Requirement already satisfied: tqdm>=4.62.1 in /vol/bitbucket/lb124/DL_CW_2_lb124/.venv/lib/python3.12/site-packages (from evaluate) (4.67.1)\n",
            "Requirement already satisfied: xxhash in /vol/bitbucket/lb124/DL_CW_2_lb124/.venv/lib/python3.12/site-packages (from evaluate) (3.5.0)\n",
            "Requirement already satisfied: multiprocess in /vol/bitbucket/lb124/DL_CW_2_lb124/.venv/lib/python3.12/site-packages (from evaluate) (0.70.16)\n",
            "Requirement already satisfied: fsspec>=2021.05.0 in /vol/bitbucket/lb124/DL_CW_2_lb124/.venv/lib/python3.12/site-packages (from fsspec[http]>=2021.05.0->evaluate) (2024.12.0)\n",
            "Requirement already satisfied: huggingface-hub>=0.7.0 in /vol/bitbucket/lb124/DL_CW_2_lb124/.venv/lib/python3.12/site-packages (from evaluate) (0.28.1)\n",
            "Requirement already satisfied: packaging in /vol/bitbucket/lb124/DL_CW_2_lb124/.venv/lib/python3.12/site-packages (from evaluate) (24.2)\n",
            "Requirement already satisfied: filelock in /vol/bitbucket/lb124/DL_CW_2_lb124/.venv/lib/python3.12/site-packages (from datasets>=2.0.0->evaluate) (3.17.0)\n",
            "Requirement already satisfied: pyarrow>=15.0.0 in /vol/bitbucket/lb124/DL_CW_2_lb124/.venv/lib/python3.12/site-packages (from datasets>=2.0.0->evaluate) (19.0.1)\n",
            "Requirement already satisfied: aiohttp in /vol/bitbucket/lb124/DL_CW_2_lb124/.venv/lib/python3.12/site-packages (from datasets>=2.0.0->evaluate) (3.11.12)\n",
            "Requirement already satisfied: pyyaml>=5.1 in /vol/bitbucket/lb124/DL_CW_2_lb124/.venv/lib/python3.12/site-packages (from datasets>=2.0.0->evaluate) (6.0.2)\n",
            "Requirement already satisfied: typing-extensions>=3.7.4.3 in /vol/bitbucket/lb124/DL_CW_2_lb124/.venv/lib/python3.12/site-packages (from huggingface-hub>=0.7.0->evaluate) (4.12.2)\n",
            "Requirement already satisfied: charset-normalizer<4,>=2 in /vol/bitbucket/lb124/DL_CW_2_lb124/.venv/lib/python3.12/site-packages (from requests>=2.19.0->evaluate) (3.4.1)\n",
            "Requirement already satisfied: idna<4,>=2.5 in /vol/bitbucket/lb124/DL_CW_2_lb124/.venv/lib/python3.12/site-packages (from requests>=2.19.0->evaluate) (3.10)\n",
            "Requirement already satisfied: urllib3<3,>=1.21.1 in /vol/bitbucket/lb124/DL_CW_2_lb124/.venv/lib/python3.12/site-packages (from requests>=2.19.0->evaluate) (2.3.0)\n",
            "Requirement already satisfied: certifi>=2017.4.17 in /vol/bitbucket/lb124/DL_CW_2_lb124/.venv/lib/python3.12/site-packages (from requests>=2.19.0->evaluate) (2025.1.31)\n",
            "Requirement already satisfied: python-dateutil>=2.8.2 in /vol/bitbucket/lb124/DL_CW_2_lb124/.venv/lib/python3.12/site-packages (from pandas->evaluate) (2.9.0.post0)\n",
            "Requirement already satisfied: pytz>=2020.1 in /vol/bitbucket/lb124/DL_CW_2_lb124/.venv/lib/python3.12/site-packages (from pandas->evaluate) (2025.1)\n",
            "Requirement already satisfied: tzdata>=2022.7 in /vol/bitbucket/lb124/DL_CW_2_lb124/.venv/lib/python3.12/site-packages (from pandas->evaluate) (2025.1)\n",
            "Requirement already satisfied: aiohappyeyeballs>=2.3.0 in /vol/bitbucket/lb124/DL_CW_2_lb124/.venv/lib/python3.12/site-packages (from aiohttp->datasets>=2.0.0->evaluate) (2.4.6)\n",
            "Requirement already satisfied: aiosignal>=1.1.2 in /vol/bitbucket/lb124/DL_CW_2_lb124/.venv/lib/python3.12/site-packages (from aiohttp->datasets>=2.0.0->evaluate) (1.3.2)\n",
            "Requirement already satisfied: attrs>=17.3.0 in /vol/bitbucket/lb124/DL_CW_2_lb124/.venv/lib/python3.12/site-packages (from aiohttp->datasets>=2.0.0->evaluate) (25.1.0)\n",
            "Requirement already satisfied: frozenlist>=1.1.1 in /vol/bitbucket/lb124/DL_CW_2_lb124/.venv/lib/python3.12/site-packages (from aiohttp->datasets>=2.0.0->evaluate) (1.5.0)\n",
            "Requirement already satisfied: multidict<7.0,>=4.5 in /vol/bitbucket/lb124/DL_CW_2_lb124/.venv/lib/python3.12/site-packages (from aiohttp->datasets>=2.0.0->evaluate) (6.1.0)\n",
            "Requirement already satisfied: propcache>=0.2.0 in /vol/bitbucket/lb124/DL_CW_2_lb124/.venv/lib/python3.12/site-packages (from aiohttp->datasets>=2.0.0->evaluate) (0.2.1)\n",
            "Requirement already satisfied: yarl<2.0,>=1.17.0 in /vol/bitbucket/lb124/DL_CW_2_lb124/.venv/lib/python3.12/site-packages (from aiohttp->datasets>=2.0.0->evaluate) (1.18.3)\n",
            "Requirement already satisfied: six>=1.5 in /vol/bitbucket/lb124/DL_CW_2_lb124/.venv/lib/python3.12/site-packages (from python-dateutil>=2.8.2->pandas->evaluate) (1.17.0)\n",
            "Note: you may need to restart the kernel to use updated packages.\n"
          ]
        }
      ],
      "source": [
        "%pip install evaluate"
      ]
    },
    {
      "cell_type": "code",
      "execution_count": 1,
      "metadata": {
        "id": "0wgQDE9aRS6z"
      },
      "outputs": [],
      "source": [
        "import gc\n",
        "import torch\n",
        "import pandas as pd\n",
        "import ast  # for list-like labels, if needed\n",
        "from sklearn.model_selection import train_test_split\n",
        "from torch.utils.data import Dataset, DataLoader, WeightedRandomSampler\n",
        "from transformers import (\n",
        "    DebertaTokenizer,\n",
        "    DebertaForSequenceClassification,\n",
        "    TrainingArguments,\n",
        "    Trainer,\n",
        "    EarlyStoppingCallback,\n",
        ")\n",
        "from evaluate import load\n",
        "import numpy as np\n",
        "import optuna  # Using optuna for hyperparameter optimization"
      ]
    },
    {
      "cell_type": "code",
      "execution_count": 2,
      "metadata": {
        "id": "q60ItpMsRVbN"
      },
      "outputs": [],
      "source": [
        "# Clean up GPU memory\n",
        "gc.collect()\n",
        "torch.cuda.empty_cache()"
      ]
    },
    {
      "cell_type": "code",
      "execution_count": 3,
      "metadata": {
        "id": "60fNVmas_HtR"
      },
      "outputs": [],
      "source": [
        "import re"
      ]
    },
    {
      "cell_type": "code",
      "execution_count": null,
      "metadata": {},
      "outputs": [],
      "source": [
        "# Initialize the tokenizer and model\n",
        "tokenizer = DebertaTokenizer.from_pretrained(\"microsoft/deberta-base\")"
      ]
    },
    {
      "cell_type": "code",
      "execution_count": 4,
      "metadata": {
        "colab": {
          "base_uri": "https://localhost:8080/"
        },
        "id": "bUoJtrdNRXvK",
        "outputId": "7615ca49-3022-4e43-f354-5e2b5ea8475b"
      },
      "outputs": [
        {
          "name": "stdout",
          "output_type": "stream",
          "text": [
            "Preprocessing and balancing complete!\n"
          ]
        },
        {
          "name": "stderr",
          "output_type": "stream",
          "text": [
            "Some weights of DebertaForSequenceClassification were not initialized from the model checkpoint at microsoft/deberta-base and are newly initialized: ['classifier.bias', 'classifier.weight', 'pooler.dense.bias', 'pooler.dense.weight']\n",
            "You should probably TRAIN this model on a down-stream task to be able to use it for predictions and inference.\n"
          ]
        }
      ],
      "source": [
        "# -------------------------------\n",
        "# Data Preparation and Tokenization\n",
        "# -------------------------------\n",
        "\n",
        "# Define column names and load datasets\n",
        "columns = ['par_id', 'art_id', 'keyword', 'country_code', 'text', 'label']\n",
        "df_texts = pd.read_csv(\"dontpatronizeme_pcl.tsv\", sep=\"\\t\", header=None, names=columns)\n",
        "df_labels = pd.read_csv(\"train_semeval_parids-labels.csv\")\n",
        "\n",
        "# Ensure the IDs are strings for merging\n",
        "df_texts[\"par_id\"] = df_texts[\"par_id\"].astype(str)\n",
        "df_labels[\"par_id\"] = df_labels[\"par_id\"].astype(str)\n",
        "\n",
        "# Drop unnecessary label column from df_labels and create binary labels in df_texts\n",
        "df_labels = df_labels.drop(columns=[\"label\"])\n",
        "df_texts[\"binary_label\"] = df_texts[\"label\"].apply(lambda x: 1 if x >= 2 else 0)\n",
        "df_texts = df_texts.drop(columns=[\"label\"])\n",
        "\n",
        "# Merge datasets on paragraph ID and rename the binary label to \"label\"\n",
        "df = df_labels.merge(df_texts, on=\"par_id\", how=\"left\")\n",
        "df.rename(columns={\"binary_label\": \"label\"}, inplace=True)\n",
        "df = df.dropna(subset=[\"text\", \"label\"])  # Drop rows with missing data\n",
        "\n",
        "\n",
        "def clean_text(text):\n",
        "    # Normalize whitespace\n",
        "    text = re.sub(r\"\\s+\", \" \", text)\n",
        "    \n",
        "    return text.strip()\n",
        "df[\"text\"] = df[\"text\"].astype(str).apply(clean_text)\n",
        "print(\"Preprocessing and balancing complete!\")\n",
        "\n",
        "\n",
        "\n",
        "# Tokenization function\n",
        "def tokenize_function(text):\n",
        "    return tokenizer(text, truncation=True, padding=\"max_length\", max_length=512, return_tensors=\"pt\")\n",
        "\n",
        "# Tokenize the texts and stack tensors\n",
        "df[\"tokenized\"] = df[\"text\"].apply(lambda x: tokenize_function(x))\n",
        "input_ids = torch.cat([t[\"input_ids\"] for t in df[\"tokenized\"]], dim=0)\n",
        "attention_masks = torch.cat([t[\"attention_mask\"] for t in df[\"tokenized\"]], dim=0)\n",
        "labels = torch.tensor(df[\"label\"].values, dtype=torch.long)"
      ]
    },
    {
      "cell_type": "code",
      "execution_count": 5,
      "metadata": {
        "id": "U6gNYw2iRcub"
      },
      "outputs": [],
      "source": [
        "# -------------------------------\n",
        "# Create Dataset and Sampler\n",
        "# -------------------------------\n",
        "\n",
        "class PCLDataset(Dataset):\n",
        "    def __init__(self, input_ids, attention_masks, labels):\n",
        "        self.input_ids = input_ids\n",
        "        self.attention_masks = attention_masks\n",
        "        self.labels = labels\n",
        "\n",
        "    def __len__(self):\n",
        "        return len(self.labels)\n",
        "\n",
        "    def __getitem__(self, idx):\n",
        "        return {\n",
        "            \"input_ids\": self.input_ids[idx],\n",
        "            \"attention_mask\": self.attention_masks[idx],\n",
        "            \"labels\": self.labels[idx],\n",
        "        }\n",
        "\n",
        "# Split data into training and validation sets using indices\n",
        "indices = list(range(len(df)))\n",
        "train_idx, val_idx = train_test_split(indices, test_size=0.2, random_state=42)\n",
        "\n",
        "train_ids, val_ids = input_ids[train_idx], input_ids[val_idx]\n",
        "train_masks, val_masks = attention_masks[train_idx], attention_masks[val_idx]\n",
        "train_labels, val_labels = labels[train_idx], labels[val_idx]\n",
        "\n",
        "train_dataset = PCLDataset(train_ids, train_masks, train_labels)\n",
        "val_dataset = PCLDataset(val_ids, val_masks, val_labels)\n"
      ]
    },
    {
      "cell_type": "code",
      "execution_count": 6,
      "metadata": {
        "id": "P069e__fRfti"
      },
      "outputs": [],
      "source": [
        "# -------------------------------\n",
        "# Define a Custom Trainer with Weighted Sampling\n",
        "# -------------------------------\n",
        "\n",
        "class WeightedSamplerTrainer(Trainer):\n",
        "    def get_train_dataloader(self):\n",
        "        if self.train_dataset is None:\n",
        "            raise ValueError(\"Trainer: training requires a train_dataset.\")\n",
        "        # Compute class counts from the dataset labels\n",
        "        labels_tensor = torch.tensor(self.train_dataset.labels)\n",
        "        class_counts = torch.bincount(labels_tensor)\n",
        "        class_weights = 1.0 / class_counts.float()\n",
        "        sample_weights = class_weights[labels_tensor.numpy()]\n",
        "        sampler = WeightedRandomSampler(weights=sample_weights, num_samples=len(self.train_dataset), replacement=True)\n",
        "        return DataLoader(\n",
        "            self.train_dataset,\n",
        "            batch_size=self.args.per_device_train_batch_size,\n",
        "            sampler=sampler,\n",
        "        )"
      ]
    },
    {
      "cell_type": "code",
      "execution_count": 7,
      "metadata": {
        "id": "1oMq4ZtKRiVi"
      },
      "outputs": [],
      "source": [
        "# -------------------------------\n",
        "# Define Metric Computation\n",
        "# -------------------------------\n",
        "\n",
        "def compute_metrics(eval_pred):\n",
        "    \"\"\"Computes Accuracy and F1 Score\"\"\"\n",
        "    accuracy_metric = load(\"accuracy\")\n",
        "    f1_metric = load(\"f1\")\n",
        "    predictions = np.argmax(eval_pred.predictions, axis=1)\n",
        "    references = eval_pred.label_ids\n",
        "    accuracy_score = accuracy_metric.compute(predictions=predictions, references=references)\n",
        "    f1_score = f1_metric.compute(predictions=predictions, references=references)\n",
        "    return {\"accuracy\": accuracy_score[\"accuracy\"], \"f1\": f1_score[\"f1\"]}\n"
      ]
    },
    {
      "cell_type": "markdown",
      "metadata": {},
      "source": [
        "**TEST WEIGHTED RANDOM SAMPLER WITH KEYWORD AND COUNTRY CODE WITH DEBERTA**"
      ]
    },
    {
      "cell_type": "code",
      "execution_count": 8,
      "metadata": {},
      "outputs": [
        {
          "name": "stderr",
          "output_type": "stream",
          "text": [
            "/vol/bitbucket/lb124/DL_CW_2_lb124/.venv/lib/python3.12/site-packages/transformers/training_args.py:1575: FutureWarning: `evaluation_strategy` is deprecated and will be removed in version 4.46 of 🤗 Transformers. Use `eval_strategy` instead\n",
            "  warnings.warn(\n"
          ]
        },
        {
          "data": {
            "text/html": [],
            "text/plain": [
              "<IPython.core.display.HTML object>"
            ]
          },
          "metadata": {},
          "output_type": "display_data"
        },
        {
          "name": "stdout",
          "output_type": "stream",
          "text": [
            "Final evaluation results: {'eval_loss': 0.558684766292572, 'eval_model_preparation_time': 0.003, 'eval_accuracy': 0.9293218720152817, 'eval_f1': 0.5956284153005464, 'eval_runtime': 119.5852, 'eval_samples_per_second': 17.511, 'eval_steps_per_second': 4.382}\n"
          ]
        }
      ],
      "source": [
        "model = DebertaForSequenceClassification.from_pretrained(\"./deberta__keyword_WS_model\")\n",
        "tokenizer = DebertaTokenizer.from_pretrained(\"./deberta__keyword_WS_model\")\n",
        "columns = ['par_id', 'art_id', 'keyword', 'country_code', 'text', 'label']\n",
        "def tokenize_function(text):\n",
        "    return tokenizer(text, truncation=True, padding=\"max_length\", max_length=512, return_tensors=\"pt\")\n",
        "\n",
        "df_dev = pd.read_csv(\"dev_semeval_parids-labels.csv\")\n",
        "df_texts = pd.read_csv(\"dontpatronizeme_pcl.tsv\", sep=\"\\t\", header=None, names=columns)\n",
        "\n",
        "df_dev[\"par_id\"] = df_dev[\"par_id\"].astype(str)\n",
        "df_texts[\"par_id\"] = df_texts[\"par_id\"].astype(str)\n",
        "\n",
        "df_dev = df_dev.drop(columns=[\"label\"])\n",
        "df_texts[\"binary_label\"] = df_texts[\"label\"].apply(lambda x: 1 if x >= 2 else 0)\n",
        "df_texts = df_texts.drop(columns=[\"label\"])\n",
        "\n",
        "# Merge datasets on paragraph ID and rename the binary label to \"label\"\n",
        "df_dev = df_dev.merge(df_texts, on=\"par_id\", how=\"left\")\n",
        "df_dev.rename(columns={\"binary_label\": \"label\"}, inplace=True)\n",
        "\n",
        "df_dev[\"text\"] = df_dev[\"text\"].fillna(\"\")\n",
        "def clean_text(text):\n",
        "\n",
        "    text = re.sub(r\"\\s+\", \" \", text)\n",
        "    return text.strip()\n",
        "\n",
        "# Ensure text column has no NaN values before applying text cleaning\n",
        "df_dev[\"text\"] = df_dev[\"text\"].astype(str).apply(clean_text)\n",
        "def tokenize_function(text):\n",
        "    return tokenizer(text, truncation=True, padding=\"max_length\", max_length=512, return_tensors=\"pt\")\n",
        "\n",
        "# Tokenize the texts and stack tensors\n",
        "df_dev[\"tokenized\"] = df_dev[\"text\"].apply(lambda x: tokenize_function(x))\n",
        "\n",
        "dev_input_ids = torch.cat([t[\"input_ids\"] for t in df_dev[\"tokenized\"]], dim=0)\n",
        "dev_attention_masks = torch.cat([t[\"attention_mask\"] for t in df_dev[\"tokenized\"]], dim=0)\n",
        "dev_labels = torch.tensor(df_dev[\"label\"].values, dtype=torch.long)\n",
        "\n",
        "class PCLDataset(Dataset):\n",
        "    def __init__(self, input_ids, attention_masks, labels):\n",
        "        self.input_ids = input_ids\n",
        "        self.attention_masks = attention_masks\n",
        "        self.labels = labels\n",
        "\n",
        "    def __len__(self):\n",
        "        return len(self.labels)\n",
        "\n",
        "    def __getitem__(self, idx):\n",
        "        return {\n",
        "            \"input_ids\": self.input_ids[idx],\n",
        "            \"attention_mask\": self.attention_masks[idx],\n",
        "            \"labels\": self.labels[idx],\n",
        "        }\n",
        "\n",
        "# Create a Dataset instance (assuming you have a PCLDataset defined similarly)\n",
        "dev_dataset = PCLDataset(dev_input_ids, dev_attention_masks, dev_labels)\n",
        "final_training_args = TrainingArguments(\n",
        "       output_dir=\"./results\",\n",
        "       learning_rate=9.468961305919929e-06,\n",
        "       optim=\"adamw_torch\",\n",
        "       warmup_ratio=0.1,\n",
        "       evaluation_strategy=\"epoch\",\n",
        "       save_strategy=\"no\", # change to no\n",
        "       per_device_train_batch_size=4,  # Reduce from 8 or 16 to 4 or even 2\n",
        "       per_device_eval_batch_size=4,   # Match train batch size\n",
        "       num_train_epochs=2,\n",
        "       weight_decay=0.03430359963348227,\n",
        "       logging_dir=\"./logs\",\n",
        "       logging_steps=50,\n",
        "       save_total_limit=2,\n",
        "       lr_scheduler_type=\"linear\",\n",
        "       load_best_model_at_end=False,\n",
        "       metric_for_best_model=\"f1\",\n",
        "       report_to=\"none\",\n",
        "       fp16=False,  # Enables mixed precision training (reduces memory usage)\n",
        "       bf16=False,  # Keep this False unless on Ampere GPUs (A100, RTX 30xx)\n",
        "   )\n",
        "\n",
        "final_trainer = WeightedSamplerTrainer(\n",
        "    model=model,\n",
        "    args=final_training_args,\n",
        "    train_dataset=train_dataset,\n",
        "    eval_dataset=dev_dataset,\n",
        "    compute_metrics=compute_metrics\n",
        "\n",
        ")\n",
        "\n",
        "final_results = final_trainer.evaluate()\n",
        "print(\"Final evaluation results:\", final_results)\n"
      ]
    },
    {
      "cell_type": "markdown",
      "metadata": {},
      "source": [
        "**Generate labels for the dev dataset**"
      ]
    },
    {
      "cell_type": "code",
      "execution_count": 9,
      "metadata": {},
      "outputs": [],
      "source": [
        "# Get predictions from the trainer on the dev_dataset\n",
        "predictions_output = final_trainer.predict(dev_dataset)\n",
        "# For classification, get the index of the maximum logit for each sample\n",
        "predicted_labels = predictions_output.predictions.argmax(axis=1)\n",
        "\n",
        "# Save each predicted label on a new line in a text file\n",
        "with open(\"dev.txt\", \"w\") as f:\n",
        "    for label in predicted_labels:\n",
        "        f.write(f\"{label}\\n\")\n"
      ]
    },
    {
      "cell_type": "code",
      "execution_count": 23,
      "metadata": {},
      "outputs": [
        {
          "name": "stdout",
          "output_type": "stream",
          "text": [
            "Accuracy: 92.93%\n"
          ]
        }
      ],
      "source": [
        "# Load the predicted labels from the file\n",
        "with open(\"dev.txt\", \"r\") as f:\n",
        "    loaded_labels = [int(line.strip()) for line in f.readlines()]\n",
        "\n",
        "# Extract true labels from your dev_dataset.\n",
        "# If dev_dataset.labels is a tensor, you can convert it to a list:\n",
        "true_labels = dev_dataset.labels.tolist()\n",
        "\n",
        "# Ensure the lengths match\n",
        "assert len(loaded_labels) == len(true_labels), \"Number of predictions does not match the number of true labels!\"\n",
        "\n",
        "# Compare predictions with true labels; for example, compute accuracy\n",
        "correct = sum(1 for pred, true in zip(loaded_labels, true_labels) if pred == true)\n",
        "accuracy = correct / len(true_labels)\n",
        "print(\"Accuracy: {:.2f}%\".format(accuracy * 100))"
      ]
    },
    {
      "cell_type": "code",
      "execution_count": 12,
      "metadata": {},
      "outputs": [
        {
          "name": "stdout",
          "output_type": "stream",
          "text": [
            "2094\n"
          ]
        }
      ],
      "source": [
        "print(len(loaded_labels))"
      ]
    },
    {
      "cell_type": "markdown",
      "metadata": {},
      "source": [
        "**Generate labels for the test set**"
      ]
    },
    {
      "cell_type": "code",
      "execution_count": 13,
      "metadata": {},
      "outputs": [
        {
          "name": "stdout",
          "output_type": "stream",
          "text": [
            "Preprocessing and balancing complete!\n"
          ]
        },
        {
          "data": {
            "text/html": [],
            "text/plain": [
              "<IPython.core.display.HTML object>"
            ]
          },
          "metadata": {},
          "output_type": "display_data"
        }
      ],
      "source": [
        "columns = ['par_id', 'art_id', 'keyword', 'country_code', 'text']\n",
        "df_test = pd.read_csv(\"task4_test.tsv\", sep=\"\\t\", header=None, names=columns)\n",
        "df_test[\"par_id\"] = df_test[\"par_id\"].astype(str)\n",
        "def clean_text(text):\n",
        "    # Normalize whitespace\n",
        "    text = re.sub(r\"\\s+\", \" \", text)\n",
        "    \n",
        "    return text.strip()\n",
        "df_test[\"text\"] = df_test[\"text\"].astype(str).apply(clean_text)\n",
        "print(\"Preprocessing and balancing complete!\")\n",
        "\n",
        "# Tokenization function\n",
        "def tokenize_function(text):\n",
        "    return tokenizer(text, truncation=True, padding=\"max_length\", max_length=512, return_tensors=\"pt\")\n",
        "\n",
        "# Create a custom Dataset class for the test set (without labels)\n",
        "class PCLDatasetTest(Dataset):\n",
        "    def __init__(self, input_ids, attention_masks):\n",
        "        self.input_ids = input_ids\n",
        "        self.attention_masks = attention_masks\n",
        "\n",
        "    def __len__(self):\n",
        "        return len(self.input_ids)\n",
        "\n",
        "    def __getitem__(self, idx):\n",
        "        return {\n",
        "            \"input_ids\": self.input_ids[idx],\n",
        "            \"attention_mask\": self.attention_masks[idx],\n",
        "        }\n",
        "\n",
        "# Tokenize the test texts as you already did\n",
        "df_test[\"tokenized\"] = df_test[\"text\"].apply(lambda x: tokenize_function(x))\n",
        "test_input_ids = torch.cat([t[\"input_ids\"] for t in df_test[\"tokenized\"]], dim=0)\n",
        "test_attention_masks = torch.cat([t[\"attention_mask\"] for t in df_test[\"tokenized\"]], dim=0)\n",
        "\n",
        "# Create a test dataset using the custom Dataset class\n",
        "test_dataset = PCLDatasetTest(test_input_ids, test_attention_masks)\n",
        "\n",
        "# Use the trainer's predict method to generate predictions on the test dataset\n",
        "predictions_output_test = final_trainer.predict(test_dataset)\n",
        "predicted_labels_test = predictions_output_test.predictions.argmax(axis=1)\n",
        "\n",
        "# Save the predicted labels into a text file (one prediction per line)\n",
        "with open(\"test.txt\", \"w\") as f:\n",
        "    for label in predicted_labels_test:\n",
        "        f.write(f\"{label}\\n\")\n"
      ]
    },
    {
      "cell_type": "code",
      "execution_count": 14,
      "metadata": {},
      "outputs": [
        {
          "name": "stdout",
          "output_type": "stream",
          "text": [
            "3832\n"
          ]
        }
      ],
      "source": [
        "print(len(predicted_labels_test))"
      ]
    }
  ],
  "metadata": {
    "accelerator": "GPU",
    "colab": {
      "gpuType": "T4",
      "provenance": []
    },
    "kernelspec": {
      "display_name": ".venv",
      "language": "python",
      "name": "python3"
    },
    "language_info": {
      "codemirror_mode": {
        "name": "ipython",
        "version": 3
      },
      "file_extension": ".py",
      "mimetype": "text/x-python",
      "name": "python",
      "nbconvert_exporter": "python",
      "pygments_lexer": "ipython3",
      "version": "3.12.3"
    }
  },
  "nbformat": 4,
  "nbformat_minor": 0
}
