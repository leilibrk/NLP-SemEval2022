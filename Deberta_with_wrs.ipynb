{
  "cells": [
    {
      "cell_type": "code",
      "execution_count": 1,
      "metadata": {
        "colab": {
          "base_uri": "https://localhost:8080/"
        },
        "id": "O1WIr4KP9qw4",
        "outputId": "05ef9704-75d7-4ea4-b7ff-5591d10565ad"
      },
      "outputs": [
        {
          "name": "stdout",
          "output_type": "stream",
          "text": [
            "Requirement already satisfied: evaluate in /vol/bitbucket/lb124/DL_CW_2_lb124/.venv/lib/python3.12/site-packages (0.4.3)\n",
            "Requirement already satisfied: datasets>=2.0.0 in /vol/bitbucket/lb124/DL_CW_2_lb124/.venv/lib/python3.12/site-packages (from evaluate) (3.3.1)\n",
            "Requirement already satisfied: numpy>=1.17 in /vol/bitbucket/lb124/DL_CW_2_lb124/.venv/lib/python3.12/site-packages (from evaluate) (2.2.3)\n",
            "Requirement already satisfied: dill in /vol/bitbucket/lb124/DL_CW_2_lb124/.venv/lib/python3.12/site-packages (from evaluate) (0.3.8)\n",
            "Requirement already satisfied: pandas in /vol/bitbucket/lb124/DL_CW_2_lb124/.venv/lib/python3.12/site-packages (from evaluate) (2.2.3)\n",
            "Requirement already satisfied: requests>=2.19.0 in /vol/bitbucket/lb124/DL_CW_2_lb124/.venv/lib/python3.12/site-packages (from evaluate) (2.32.3)\n",
            "Requirement already satisfied: tqdm>=4.62.1 in /vol/bitbucket/lb124/DL_CW_2_lb124/.venv/lib/python3.12/site-packages (from evaluate) (4.67.1)\n",
            "Requirement already satisfied: xxhash in /vol/bitbucket/lb124/DL_CW_2_lb124/.venv/lib/python3.12/site-packages (from evaluate) (3.5.0)\n",
            "Requirement already satisfied: multiprocess in /vol/bitbucket/lb124/DL_CW_2_lb124/.venv/lib/python3.12/site-packages (from evaluate) (0.70.16)\n",
            "Requirement already satisfied: fsspec>=2021.05.0 in /vol/bitbucket/lb124/DL_CW_2_lb124/.venv/lib/python3.12/site-packages (from fsspec[http]>=2021.05.0->evaluate) (2024.12.0)\n",
            "Requirement already satisfied: huggingface-hub>=0.7.0 in /vol/bitbucket/lb124/DL_CW_2_lb124/.venv/lib/python3.12/site-packages (from evaluate) (0.28.1)\n",
            "Requirement already satisfied: packaging in /vol/bitbucket/lb124/DL_CW_2_lb124/.venv/lib/python3.12/site-packages (from evaluate) (24.2)\n",
            "Requirement already satisfied: filelock in /vol/bitbucket/lb124/DL_CW_2_lb124/.venv/lib/python3.12/site-packages (from datasets>=2.0.0->evaluate) (3.17.0)\n",
            "Requirement already satisfied: pyarrow>=15.0.0 in /vol/bitbucket/lb124/DL_CW_2_lb124/.venv/lib/python3.12/site-packages (from datasets>=2.0.0->evaluate) (19.0.1)\n",
            "Requirement already satisfied: aiohttp in /vol/bitbucket/lb124/DL_CW_2_lb124/.venv/lib/python3.12/site-packages (from datasets>=2.0.0->evaluate) (3.11.12)\n",
            "Requirement already satisfied: pyyaml>=5.1 in /vol/bitbucket/lb124/DL_CW_2_lb124/.venv/lib/python3.12/site-packages (from datasets>=2.0.0->evaluate) (6.0.2)\n",
            "Requirement already satisfied: typing-extensions>=3.7.4.3 in /vol/bitbucket/lb124/DL_CW_2_lb124/.venv/lib/python3.12/site-packages (from huggingface-hub>=0.7.0->evaluate) (4.12.2)\n",
            "Requirement already satisfied: charset-normalizer<4,>=2 in /vol/bitbucket/lb124/DL_CW_2_lb124/.venv/lib/python3.12/site-packages (from requests>=2.19.0->evaluate) (3.4.1)\n",
            "Requirement already satisfied: idna<4,>=2.5 in /vol/bitbucket/lb124/DL_CW_2_lb124/.venv/lib/python3.12/site-packages (from requests>=2.19.0->evaluate) (3.10)\n",
            "Requirement already satisfied: urllib3<3,>=1.21.1 in /vol/bitbucket/lb124/DL_CW_2_lb124/.venv/lib/python3.12/site-packages (from requests>=2.19.0->evaluate) (2.3.0)\n",
            "Requirement already satisfied: certifi>=2017.4.17 in /vol/bitbucket/lb124/DL_CW_2_lb124/.venv/lib/python3.12/site-packages (from requests>=2.19.0->evaluate) (2025.1.31)\n",
            "Requirement already satisfied: python-dateutil>=2.8.2 in /vol/bitbucket/lb124/DL_CW_2_lb124/.venv/lib/python3.12/site-packages (from pandas->evaluate) (2.9.0.post0)\n",
            "Requirement already satisfied: pytz>=2020.1 in /vol/bitbucket/lb124/DL_CW_2_lb124/.venv/lib/python3.12/site-packages (from pandas->evaluate) (2025.1)\n",
            "Requirement already satisfied: tzdata>=2022.7 in /vol/bitbucket/lb124/DL_CW_2_lb124/.venv/lib/python3.12/site-packages (from pandas->evaluate) (2025.1)\n",
            "Requirement already satisfied: aiohappyeyeballs>=2.3.0 in /vol/bitbucket/lb124/DL_CW_2_lb124/.venv/lib/python3.12/site-packages (from aiohttp->datasets>=2.0.0->evaluate) (2.4.6)\n",
            "Requirement already satisfied: aiosignal>=1.1.2 in /vol/bitbucket/lb124/DL_CW_2_lb124/.venv/lib/python3.12/site-packages (from aiohttp->datasets>=2.0.0->evaluate) (1.3.2)\n",
            "Requirement already satisfied: attrs>=17.3.0 in /vol/bitbucket/lb124/DL_CW_2_lb124/.venv/lib/python3.12/site-packages (from aiohttp->datasets>=2.0.0->evaluate) (25.1.0)\n",
            "Requirement already satisfied: frozenlist>=1.1.1 in /vol/bitbucket/lb124/DL_CW_2_lb124/.venv/lib/python3.12/site-packages (from aiohttp->datasets>=2.0.0->evaluate) (1.5.0)\n",
            "Requirement already satisfied: multidict<7.0,>=4.5 in /vol/bitbucket/lb124/DL_CW_2_lb124/.venv/lib/python3.12/site-packages (from aiohttp->datasets>=2.0.0->evaluate) (6.1.0)\n",
            "Requirement already satisfied: propcache>=0.2.0 in /vol/bitbucket/lb124/DL_CW_2_lb124/.venv/lib/python3.12/site-packages (from aiohttp->datasets>=2.0.0->evaluate) (0.2.1)\n",
            "Requirement already satisfied: yarl<2.0,>=1.17.0 in /vol/bitbucket/lb124/DL_CW_2_lb124/.venv/lib/python3.12/site-packages (from aiohttp->datasets>=2.0.0->evaluate) (1.18.3)\n",
            "Requirement already satisfied: six>=1.5 in /vol/bitbucket/lb124/DL_CW_2_lb124/.venv/lib/python3.12/site-packages (from python-dateutil>=2.8.2->pandas->evaluate) (1.17.0)\n",
            "Note: you may need to restart the kernel to use updated packages.\n"
          ]
        }
      ],
      "source": [
        "%pip install evaluate"
      ]
    },
    {
      "cell_type": "code",
      "execution_count": 2,
      "metadata": {
        "colab": {
          "base_uri": "https://localhost:8080/"
        },
        "id": "FspblTK_9tGD",
        "outputId": "d2608ce7-2bbe-42cc-97c2-dbe8c4df4e38"
      },
      "outputs": [
        {
          "name": "stdout",
          "output_type": "stream",
          "text": [
            "Requirement already satisfied: optuna in /vol/bitbucket/lb124/DL_CW_2_lb124/.venv/lib/python3.12/site-packages (4.2.1)\n",
            "Requirement already satisfied: alembic>=1.5.0 in /vol/bitbucket/lb124/DL_CW_2_lb124/.venv/lib/python3.12/site-packages (from optuna) (1.14.1)\n",
            "Requirement already satisfied: colorlog in /vol/bitbucket/lb124/DL_CW_2_lb124/.venv/lib/python3.12/site-packages (from optuna) (6.9.0)\n",
            "Requirement already satisfied: numpy in /vol/bitbucket/lb124/DL_CW_2_lb124/.venv/lib/python3.12/site-packages (from optuna) (2.2.3)\n",
            "Requirement already satisfied: packaging>=20.0 in /vol/bitbucket/lb124/DL_CW_2_lb124/.venv/lib/python3.12/site-packages (from optuna) (24.2)\n",
            "Requirement already satisfied: sqlalchemy>=1.4.2 in /vol/bitbucket/lb124/DL_CW_2_lb124/.venv/lib/python3.12/site-packages (from optuna) (2.0.38)\n",
            "Requirement already satisfied: tqdm in /vol/bitbucket/lb124/DL_CW_2_lb124/.venv/lib/python3.12/site-packages (from optuna) (4.67.1)\n",
            "Requirement already satisfied: PyYAML in /vol/bitbucket/lb124/DL_CW_2_lb124/.venv/lib/python3.12/site-packages (from optuna) (6.0.2)\n",
            "Requirement already satisfied: Mako in /vol/bitbucket/lb124/DL_CW_2_lb124/.venv/lib/python3.12/site-packages (from alembic>=1.5.0->optuna) (1.3.9)\n",
            "Requirement already satisfied: typing-extensions>=4 in /vol/bitbucket/lb124/DL_CW_2_lb124/.venv/lib/python3.12/site-packages (from alembic>=1.5.0->optuna) (4.12.2)\n",
            "Requirement already satisfied: greenlet!=0.4.17 in /vol/bitbucket/lb124/DL_CW_2_lb124/.venv/lib/python3.12/site-packages (from sqlalchemy>=1.4.2->optuna) (3.1.1)\n",
            "Requirement already satisfied: MarkupSafe>=0.9.2 in /vol/bitbucket/lb124/DL_CW_2_lb124/.venv/lib/python3.12/site-packages (from Mako->alembic>=1.5.0->optuna) (3.0.2)\n",
            "Note: you may need to restart the kernel to use updated packages.\n"
          ]
        }
      ],
      "source": [
        "%pip install optuna\n"
      ]
    },
    {
      "cell_type": "code",
      "execution_count": 1,
      "metadata": {
        "id": "0wgQDE9aRS6z"
      },
      "outputs": [],
      "source": [
        "import gc\n",
        "import torch\n",
        "import pandas as pd\n",
        "import ast  # for list-like labels, if needed\n",
        "from sklearn.model_selection import train_test_split\n",
        "from torch.utils.data import Dataset, DataLoader, WeightedRandomSampler\n",
        "from transformers import (\n",
        "    DebertaTokenizer,\n",
        "    DebertaForSequenceClassification,\n",
        "    TrainingArguments,\n",
        "    Trainer,\n",
        "    EarlyStoppingCallback,\n",
        ")\n",
        "from evaluate import load\n",
        "import numpy as np\n",
        "import optuna  # Using optuna for hyperparameter optimization"
      ]
    },
    {
      "cell_type": "code",
      "execution_count": 2,
      "metadata": {
        "id": "q60ItpMsRVbN"
      },
      "outputs": [],
      "source": [
        "# Clean up GPU memory\n",
        "gc.collect()\n",
        "torch.cuda.empty_cache()"
      ]
    },
    {
      "cell_type": "code",
      "execution_count": 3,
      "metadata": {
        "id": "60fNVmas_HtR"
      },
      "outputs": [],
      "source": [
        "import re"
      ]
    },
    {
      "cell_type": "code",
      "execution_count": 4,
      "metadata": {
        "colab": {
          "base_uri": "https://localhost:8080/"
        },
        "id": "bUoJtrdNRXvK",
        "outputId": "7615ca49-3022-4e43-f354-5e2b5ea8475b"
      },
      "outputs": [
        {
          "name": "stdout",
          "output_type": "stream",
          "text": [
            "Preprocessing and balancing complete!\n"
          ]
        },
        {
          "name": "stderr",
          "output_type": "stream",
          "text": [
            "Some weights of DebertaForSequenceClassification were not initialized from the model checkpoint at microsoft/deberta-base and are newly initialized: ['classifier.bias', 'classifier.weight', 'pooler.dense.bias', 'pooler.dense.weight']\n",
            "You should probably TRAIN this model on a down-stream task to be able to use it for predictions and inference.\n"
          ]
        }
      ],
      "source": [
        "# -------------------------------\n",
        "# Data Preparation and Tokenization\n",
        "# -------------------------------\n",
        "\n",
        "# Define column names and load datasets\n",
        "columns = ['par_id', 'art_id', 'keyword', 'country_code', 'text', 'label']\n",
        "df_texts = pd.read_csv(\"dontpatronizeme_pcl.tsv\", sep=\"\\t\", header=None, names=columns)\n",
        "df_labels = pd.read_csv(\"train_semeval_parids-labels.csv\")\n",
        "\n",
        "# Ensure the IDs are strings for merging\n",
        "df_texts[\"par_id\"] = df_texts[\"par_id\"].astype(str)\n",
        "df_labels[\"par_id\"] = df_labels[\"par_id\"].astype(str)\n",
        "\n",
        "# Drop unnecessary label column from df_labels and create binary labels in df_texts\n",
        "df_labels = df_labels.drop(columns=[\"label\"])\n",
        "df_texts[\"binary_label\"] = df_texts[\"label\"].apply(lambda x: 1 if x >= 2 else 0)\n",
        "df_texts = df_texts.drop(columns=[\"label\"])\n",
        "\n",
        "# Merge datasets on paragraph ID and rename the binary label to \"label\"\n",
        "df = df_labels.merge(df_texts, on=\"par_id\", how=\"left\")\n",
        "df.rename(columns={\"binary_label\": \"label\"}, inplace=True)\n",
        "df = df.dropna(subset=[\"text\", \"label\"])  # Drop rows with missing data\n",
        "\n",
        "# def clean_text(text):\n",
        "#     text = re.sub(r\"\\s+\", \" \", text)  # Remove extra spaces\n",
        "#     text = re.sub(r\"[^a-zA-Z0-9.,!?'\\\"]\", \" \", text)  # Remove special characters\n",
        "#     return text.strip()\n",
        "\n",
        "# # Ensure text column has no NaN values before applying text cleaning\n",
        "# df[\"text\"] = df[\"text\"].astype(str).apply(clean_text)\n",
        "\n",
        "def clean_text(text):\n",
        "    # Normalize whitespace\n",
        "    text = re.sub(r\"\\s+\", \" \", text)\n",
        "    # Optionally remove only very specific noise\n",
        "    # For example, remove non-ASCII characters:\n",
        "    # text = re.sub(r\"[^\\x00-\\x7F]+\", \" \", text)\n",
        "    return text.strip()\n",
        "df[\"text\"] = df[\"text\"].astype(str).apply(clean_text)\n",
        "print(\"Preprocessing and balancing complete!\")\n",
        "\n",
        "# Initialize the tokenizer and model\n",
        "tokenizer = DebertaTokenizer.from_pretrained(\"microsoft/deberta-base\")\n",
        "model = DebertaForSequenceClassification.from_pretrained(\n",
        "    \"microsoft/deberta-base\", num_labels=2, ignore_mismatched_sizes=True\n",
        ")\n",
        "\n",
        "# Tokenization function\n",
        "def tokenize_function(text):\n",
        "    return tokenizer(text, truncation=True, padding=\"max_length\", max_length=512, return_tensors=\"pt\")\n",
        "\n",
        "# Tokenize the texts and stack tensors\n",
        "df[\"tokenized\"] = df[\"text\"].apply(lambda x: tokenize_function(x))\n",
        "input_ids = torch.cat([t[\"input_ids\"] for t in df[\"tokenized\"]], dim=0)\n",
        "attention_masks = torch.cat([t[\"attention_mask\"] for t in df[\"tokenized\"]], dim=0)\n",
        "labels = torch.tensor(df[\"label\"].values, dtype=torch.long)"
      ]
    },
    {
      "cell_type": "code",
      "execution_count": 5,
      "metadata": {
        "id": "U6gNYw2iRcub"
      },
      "outputs": [],
      "source": [
        "# -------------------------------\n",
        "# Create Dataset and Sampler\n",
        "# -------------------------------\n",
        "\n",
        "class PCLDataset(Dataset):\n",
        "    def __init__(self, input_ids, attention_masks, labels):\n",
        "        self.input_ids = input_ids\n",
        "        self.attention_masks = attention_masks\n",
        "        self.labels = labels\n",
        "\n",
        "    def __len__(self):\n",
        "        return len(self.labels)\n",
        "\n",
        "    def __getitem__(self, idx):\n",
        "        return {\n",
        "            \"input_ids\": self.input_ids[idx],\n",
        "            \"attention_mask\": self.attention_masks[idx],\n",
        "            \"labels\": self.labels[idx],\n",
        "        }\n",
        "\n",
        "# Split data into training and validation sets using indices\n",
        "indices = list(range(len(df)))\n",
        "train_idx, val_idx = train_test_split(indices, test_size=0.2, random_state=42)\n",
        "\n",
        "train_ids, val_ids = input_ids[train_idx], input_ids[val_idx]\n",
        "train_masks, val_masks = attention_masks[train_idx], attention_masks[val_idx]\n",
        "train_labels, val_labels = labels[train_idx], labels[val_idx]\n",
        "\n",
        "train_dataset = PCLDataset(train_ids, train_masks, train_labels)\n",
        "val_dataset = PCLDataset(val_ids, val_masks, val_labels)\n"
      ]
    },
    {
      "cell_type": "code",
      "execution_count": 6,
      "metadata": {
        "id": "P069e__fRfti"
      },
      "outputs": [],
      "source": [
        "# -------------------------------\n",
        "# Define a Custom Trainer with Weighted Sampling\n",
        "# -------------------------------\n",
        "\n",
        "class WeightedSamplerTrainer(Trainer):\n",
        "    def get_train_dataloader(self):\n",
        "        if self.train_dataset is None:\n",
        "            raise ValueError(\"Trainer: training requires a train_dataset.\")\n",
        "        # Compute class counts from the dataset labels\n",
        "        labels_tensor = torch.tensor(self.train_dataset.labels)\n",
        "        class_counts = torch.bincount(labels_tensor)\n",
        "        class_weights = 1.0 / class_counts.float()\n",
        "        sample_weights = class_weights[labels_tensor.numpy()]\n",
        "        sampler = WeightedRandomSampler(weights=sample_weights, num_samples=len(self.train_dataset), replacement=True)\n",
        "        return DataLoader(\n",
        "            self.train_dataset,\n",
        "            batch_size=self.args.per_device_train_batch_size,\n",
        "            sampler=sampler,\n",
        "        )"
      ]
    },
    {
      "cell_type": "code",
      "execution_count": 7,
      "metadata": {
        "id": "1oMq4ZtKRiVi"
      },
      "outputs": [],
      "source": [
        "# -------------------------------\n",
        "# Define Metric Computation\n",
        "# -------------------------------\n",
        "\n",
        "def compute_metrics(eval_pred):\n",
        "    \"\"\"Computes Accuracy and F1 Score\"\"\"\n",
        "    accuracy_metric = load(\"accuracy\")\n",
        "    f1_metric = load(\"f1\")\n",
        "    predictions = np.argmax(eval_pred.predictions, axis=1)\n",
        "    references = eval_pred.label_ids\n",
        "    accuracy_score = accuracy_metric.compute(predictions=predictions, references=references)\n",
        "    f1_score = f1_metric.compute(predictions=predictions, references=references)\n",
        "    return {\"accuracy\": accuracy_score[\"accuracy\"], \"f1\": f1_score[\"f1\"]}\n"
      ]
    },
    {
      "cell_type": "code",
      "execution_count": 10,
      "metadata": {
        "colab": {
          "base_uri": "https://localhost:8080/",
          "height": 1000
        },
        "id": "fS6F2twKRksF",
        "outputId": "fcadaaff-6f1e-4dc6-e7c2-36ca9d1c630a"
      },
      "outputs": [
        {
          "name": "stderr",
          "output_type": "stream",
          "text": [
            "[I 2025-02-25 16:57:31,774] A new study created in memory with name: no-name-e0e63cc4-7cc1-4fd5-a18d-977107562adc\n"
          ]
        },
        {
          "name": "stderr",
          "output_type": "stream",
          "text": [
            "/vol/bitbucket/lb124/DL_CW_2_lb124/.venv/lib/python3.12/site-packages/transformers/training_args.py:1575: FutureWarning: `evaluation_strategy` is deprecated and will be removed in version 4.46 of 🤗 Transformers. Use `eval_strategy` instead\n",
            "  warnings.warn(\n",
            "/tmp/ipykernel_668716/662171446.py:10: UserWarning: To copy construct from a tensor, it is recommended to use sourceTensor.clone().detach() or sourceTensor.clone().detach().requires_grad_(True), rather than torch.tensor(sourceTensor).\n",
            "  labels_tensor = torch.tensor(self.train_dataset.labels)\n"
          ]
        },
        {
          "data": {
            "text/html": [
              "\n",
              "    <div>\n",
              "      \n",
              "      <progress value='3350' max='3350' style='width:300px; height:20px; vertical-align: middle;'></progress>\n",
              "      [3350/3350 1:02:02, Epoch 2/2]\n",
              "    </div>\n",
              "    <table border=\"1\" class=\"dataframe\">\n",
              "  <thead>\n",
              " <tr style=\"text-align: left;\">\n",
              "      <th>Epoch</th>\n",
              "      <th>Training Loss</th>\n",
              "      <th>Validation Loss</th>\n",
              "      <th>Accuracy</th>\n",
              "      <th>F1</th>\n",
              "    </tr>\n",
              "  </thead>\n",
              "  <tbody>\n",
              "    <tr>\n",
              "      <td>1</td>\n",
              "      <td>0.226700</td>\n",
              "      <td>0.489274</td>\n",
              "      <td>0.894328</td>\n",
              "      <td>0.540260</td>\n",
              "    </tr>\n",
              "    <tr>\n",
              "      <td>2</td>\n",
              "      <td>0.055400</td>\n",
              "      <td>0.606412</td>\n",
              "      <td>0.891343</td>\n",
              "      <td>0.540404</td>\n",
              "    </tr>\n",
              "  </tbody>\n",
              "</table><p>"
            ],
            "text/plain": [
              "<IPython.core.display.HTML object>"
            ]
          },
          "metadata": {},
          "output_type": "display_data"
        },
        {
          "data": {
            "text/html": [
              "\n",
              "    <div>\n",
              "      \n",
              "      <progress value='419' max='419' style='width:300px; height:20px; vertical-align: middle;'></progress>\n",
              "      [419/419 02:12]\n",
              "    </div>\n",
              "    "
            ],
            "text/plain": [
              "<IPython.core.display.HTML object>"
            ]
          },
          "metadata": {},
          "output_type": "display_data"
        },
        {
          "name": "stderr",
          "output_type": "stream",
          "text": [
            "[I 2025-02-25 18:01:50,809] Trial 0 finished with value: 0.5404040404040404 and parameters: {'learning_rate': 7.90341162920405e-06, 'weight_decay': 0.021977809081319234}. Best is trial 0 with value: 0.5404040404040404.\n"
          ]
        },
        {
          "name": "stdout",
          "output_type": "stream",
          "text": [
            "Trial completed with F1: 0.5404040404040404\n"
          ]
        },
        {
          "name": "stderr",
          "output_type": "stream",
          "text": [
            "/vol/bitbucket/lb124/DL_CW_2_lb124/.venv/lib/python3.12/site-packages/transformers/training_args.py:1575: FutureWarning: `evaluation_strategy` is deprecated and will be removed in version 4.46 of 🤗 Transformers. Use `eval_strategy` instead\n",
            "  warnings.warn(\n",
            "/tmp/ipykernel_668716/662171446.py:10: UserWarning: To copy construct from a tensor, it is recommended to use sourceTensor.clone().detach() or sourceTensor.clone().detach().requires_grad_(True), rather than torch.tensor(sourceTensor).\n",
            "  labels_tensor = torch.tensor(self.train_dataset.labels)\n"
          ]
        },
        {
          "data": {
            "text/html": [
              "\n",
              "    <div>\n",
              "      \n",
              "      <progress value='3350' max='3350' style='width:300px; height:20px; vertical-align: middle;'></progress>\n",
              "      [3350/3350 1:02:04, Epoch 2/2]\n",
              "    </div>\n",
              "    <table border=\"1\" class=\"dataframe\">\n",
              "  <thead>\n",
              " <tr style=\"text-align: left;\">\n",
              "      <th>Epoch</th>\n",
              "      <th>Training Loss</th>\n",
              "      <th>Validation Loss</th>\n",
              "      <th>Accuracy</th>\n",
              "      <th>F1</th>\n",
              "    </tr>\n",
              "  </thead>\n",
              "  <tbody>\n",
              "    <tr>\n",
              "      <td>1</td>\n",
              "      <td>0.367400</td>\n",
              "      <td>0.730222</td>\n",
              "      <td>0.561791</td>\n",
              "      <td>0.295585</td>\n",
              "    </tr>\n",
              "    <tr>\n",
              "      <td>2</td>\n",
              "      <td>0.580200</td>\n",
              "      <td>0.663923</td>\n",
              "      <td>0.703284</td>\n",
              "      <td>0.338216</td>\n",
              "    </tr>\n",
              "  </tbody>\n",
              "</table><p>"
            ],
            "text/plain": [
              "<IPython.core.display.HTML object>"
            ]
          },
          "metadata": {},
          "output_type": "display_data"
        },
        {
          "data": {
            "text/html": [
              "\n",
              "    <div>\n",
              "      \n",
              "      <progress value='419' max='419' style='width:300px; height:20px; vertical-align: middle;'></progress>\n",
              "      [419/419 02:12]\n",
              "    </div>\n",
              "    "
            ],
            "text/plain": [
              "<IPython.core.display.HTML object>"
            ]
          },
          "metadata": {},
          "output_type": "display_data"
        },
        {
          "name": "stderr",
          "output_type": "stream",
          "text": [
            "[I 2025-02-25 19:06:10,252] Trial 1 finished with value: 0.3382157123834887 and parameters: {'learning_rate': 7.939719956157809e-05, 'weight_decay': 0.05057966835240424}. Best is trial 0 with value: 0.5404040404040404.\n"
          ]
        },
        {
          "name": "stdout",
          "output_type": "stream",
          "text": [
            "Trial completed with F1: 0.3382157123834887\n"
          ]
        },
        {
          "name": "stderr",
          "output_type": "stream",
          "text": [
            "/vol/bitbucket/lb124/DL_CW_2_lb124/.venv/lib/python3.12/site-packages/transformers/training_args.py:1575: FutureWarning: `evaluation_strategy` is deprecated and will be removed in version 4.46 of 🤗 Transformers. Use `eval_strategy` instead\n",
            "  warnings.warn(\n",
            "/tmp/ipykernel_668716/662171446.py:10: UserWarning: To copy construct from a tensor, it is recommended to use sourceTensor.clone().detach() or sourceTensor.clone().detach().requires_grad_(True), rather than torch.tensor(sourceTensor).\n",
            "  labels_tensor = torch.tensor(self.train_dataset.labels)\n"
          ]
        },
        {
          "data": {
            "text/html": [
              "\n",
              "    <div>\n",
              "      \n",
              "      <progress value='3350' max='3350' style='width:300px; height:20px; vertical-align: middle;'></progress>\n",
              "      [3350/3350 1:02:03, Epoch 2/2]\n",
              "    </div>\n",
              "    <table border=\"1\" class=\"dataframe\">\n",
              "  <thead>\n",
              " <tr style=\"text-align: left;\">\n",
              "      <th>Epoch</th>\n",
              "      <th>Training Loss</th>\n",
              "      <th>Validation Loss</th>\n",
              "      <th>Accuracy</th>\n",
              "      <th>F1</th>\n",
              "    </tr>\n",
              "  </thead>\n",
              "  <tbody>\n",
              "    <tr>\n",
              "      <td>1</td>\n",
              "      <td>0.474200</td>\n",
              "      <td>0.569416</td>\n",
              "      <td>0.785075</td>\n",
              "      <td>0.397993</td>\n",
              "    </tr>\n",
              "    <tr>\n",
              "      <td>2</td>\n",
              "      <td>0.672300</td>\n",
              "      <td>0.651439</td>\n",
              "      <td>0.756418</td>\n",
              "      <td>0.376147</td>\n",
              "    </tr>\n",
              "  </tbody>\n",
              "</table><p>"
            ],
            "text/plain": [
              "<IPython.core.display.HTML object>"
            ]
          },
          "metadata": {},
          "output_type": "display_data"
        },
        {
          "data": {
            "text/html": [
              "\n",
              "    <div>\n",
              "      \n",
              "      <progress value='419' max='419' style='width:300px; height:20px; vertical-align: middle;'></progress>\n",
              "      [419/419 02:12]\n",
              "    </div>\n",
              "    "
            ],
            "text/plain": [
              "<IPython.core.display.HTML object>"
            ]
          },
          "metadata": {},
          "output_type": "display_data"
        },
        {
          "name": "stderr",
          "output_type": "stream",
          "text": [
            "[I 2025-02-25 20:10:29,732] Trial 2 finished with value: 0.3761467889908257 and parameters: {'learning_rate': 1.2519743196155877e-06, 'weight_decay': 0.0522838300580664}. Best is trial 0 with value: 0.5404040404040404.\n"
          ]
        },
        {
          "name": "stdout",
          "output_type": "stream",
          "text": [
            "Trial completed with F1: 0.3761467889908257\n"
          ]
        },
        {
          "name": "stderr",
          "output_type": "stream",
          "text": [
            "/vol/bitbucket/lb124/DL_CW_2_lb124/.venv/lib/python3.12/site-packages/transformers/training_args.py:1575: FutureWarning: `evaluation_strategy` is deprecated and will be removed in version 4.46 of 🤗 Transformers. Use `eval_strategy` instead\n",
            "  warnings.warn(\n",
            "/tmp/ipykernel_668716/662171446.py:10: UserWarning: To copy construct from a tensor, it is recommended to use sourceTensor.clone().detach() or sourceTensor.clone().detach().requires_grad_(True), rather than torch.tensor(sourceTensor).\n",
            "  labels_tensor = torch.tensor(self.train_dataset.labels)\n"
          ]
        },
        {
          "data": {
            "text/html": [
              "\n",
              "    <div>\n",
              "      \n",
              "      <progress value='3350' max='3350' style='width:300px; height:20px; vertical-align: middle;'></progress>\n",
              "      [3350/3350 1:02:10, Epoch 2/2]\n",
              "    </div>\n",
              "    <table border=\"1\" class=\"dataframe\">\n",
              "  <thead>\n",
              " <tr style=\"text-align: left;\">\n",
              "      <th>Epoch</th>\n",
              "      <th>Training Loss</th>\n",
              "      <th>Validation Loss</th>\n",
              "      <th>Accuracy</th>\n",
              "      <th>F1</th>\n",
              "    </tr>\n",
              "  </thead>\n",
              "  <tbody>\n",
              "    <tr>\n",
              "      <td>1</td>\n",
              "      <td>0.386500</td>\n",
              "      <td>0.692036</td>\n",
              "      <td>0.789851</td>\n",
              "      <td>0.411371</td>\n",
              "    </tr>\n",
              "    <tr>\n",
              "      <td>2</td>\n",
              "      <td>0.551900</td>\n",
              "      <td>0.679311</td>\n",
              "      <td>0.785075</td>\n",
              "      <td>0.419355</td>\n",
              "    </tr>\n",
              "  </tbody>\n",
              "</table><p>"
            ],
            "text/plain": [
              "<IPython.core.display.HTML object>"
            ]
          },
          "metadata": {},
          "output_type": "display_data"
        },
        {
          "data": {
            "text/html": [
              "\n",
              "    <div>\n",
              "      \n",
              "      <progress value='419' max='419' style='width:300px; height:20px; vertical-align: middle;'></progress>\n",
              "      [419/419 02:13]\n",
              "    </div>\n",
              "    "
            ],
            "text/plain": [
              "<IPython.core.display.HTML object>"
            ]
          },
          "metadata": {},
          "output_type": "display_data"
        },
        {
          "name": "stderr",
          "output_type": "stream",
          "text": [
            "[I 2025-02-25 21:14:56,530] Trial 3 finished with value: 0.41935483870967744 and parameters: {'learning_rate': 2.847099973065812e-06, 'weight_decay': 0.10457938142224618}. Best is trial 0 with value: 0.5404040404040404.\n"
          ]
        },
        {
          "name": "stdout",
          "output_type": "stream",
          "text": [
            "Trial completed with F1: 0.41935483870967744\n",
            "Best hyperparameters: {'learning_rate': 7.90341162920405e-06, 'weight_decay': 0.021977809081319234}\n"
          ]
        }
      ],
      "source": [
        "# -------------------------------\n",
        "# Define the Hyperparameter Tuning Objective with Early Stopping\n",
        "# -------------------------------\n",
        "\n",
        "def objective(trial):\n",
        "    # Suggest hyperparameters (updated to use suggest_float with log=True)\n",
        "    learning_rate = trial.suggest_float(\"learning_rate\", 1e-6, 1e-4, log=True)\n",
        "    weight_decay = trial.suggest_float(\"weight_decay\", 0, 0.3)\n",
        "\n",
        "    # Update TrainingArguments with trial hyperparameters\n",
        "    training_args = TrainingArguments(\n",
        "       output_dir=\"./results\",\n",
        "       learning_rate=learning_rate,\n",
        "       optim=\"adamw_torch\",\n",
        "       warmup_ratio=0.1,\n",
        "       evaluation_strategy=\"epoch\",\n",
        "       save_strategy=\"no\", # change to no\n",
        "       per_device_train_batch_size=4,  # Reduce from 8 or 16 to 4 or even 2\n",
        "       per_device_eval_batch_size=4,   # Match train batch size\n",
        "       num_train_epochs=2,\n",
        "       weight_decay=weight_decay,\n",
        "       logging_dir=\"./logs\",\n",
        "       logging_steps=50,\n",
        "       save_total_limit=2,\n",
        "       lr_scheduler_type=\"linear\",\n",
        "       load_best_model_at_end=False,\n",
        "       metric_for_best_model=\"f1\",\n",
        "       report_to=\"none\",\n",
        "       fp16=False,  # Enables mixed precision training (reduces memory usage)\n",
        "       bf16=False,  # Keep this False unless on Ampere GPUs (A100, RTX 30xx)\n",
        "   )\n",
        "\n",
        "\n",
        "    # Initialize Trainer with early stopping callback\n",
        "    trainer = WeightedSamplerTrainer(\n",
        "        model=model,\n",
        "        args=training_args,\n",
        "        train_dataset=train_dataset,\n",
        "        eval_dataset=val_dataset,\n",
        "        compute_metrics=compute_metrics\n",
        "    )\n",
        "\n",
        "    # Train and evaluate the model\n",
        "    trainer.train()\n",
        "    eval_result = trainer.evaluate()\n",
        "\n",
        "    # Use F1 score as the objective to maximize\n",
        "    f1 = eval_result[\"eval_f1\"]\n",
        "    print(f\"Trial completed with F1: {f1}\")\n",
        "    return f1\n",
        "\n",
        "# -------------------------------\n",
        "# Run Hyperparameter Tuning with Optuna\n",
        "# -------------------------------\n",
        "\n",
        "# Create a study that maximizes the F1 score\n",
        "study = optuna.create_study(direction=\"maximize\")\n",
        "# Run the optimization for a fixed number of trials (e.g., 10)\n",
        "study.optimize(objective, n_trials=4)\n",
        "\n",
        "# Print the best hyperparameters found\n",
        "print(\"Best hyperparameters:\", study.best_trial.params)"
      ]
    },
    {
      "cell_type": "code",
      "execution_count": 10,
      "metadata": {},
      "outputs": [
        {
          "data": {
            "image/png": "[encoded data removed]",
            "text/plain": [
              "<Figure size 1400x500 with 4 Axes>"
            ]
          },
          "metadata": {},
          "output_type": "display_data"
        }
      ],
      "source": [
        "import matplotlib.pyplot as plt\n",
        "import numpy as np\n",
        "# Hardcoded results from your hyperparameter tuning\n",
        "# Trials are 0, 1, 2, and 3 with corresponding F1 scores:\n",
        "# plt.rcParams.update({'font.size': 14, 'font.weight': 'bold'})\n",
        "trials = [0, 1, 2, 3]\n",
        "f1_scores = [0.540404, 0.338216, 0.376147, 0.419355]\n",
        "\n",
        "# Optionally, you can also record the learning rate and weight decay values for each trial:\n",
        "learning_rates = [7.90341162920405e-06, 7.939719956157809e-05, 1.2519743196155877e-06, 2.847099973065812e-06]\n",
        "weight_decays  = [0.021977809081319234, 0.05057966835240424, 0.0522838300580664, 0.10457938142224618]\n",
        "\n",
        "# Positions and bar width for the grouped bars\n",
        "x = np.arange(len(trials))\n",
        "bar_width = 0.4\n",
        "\n",
        "# Create a figure with two subplots side by side\n",
        "fig, (ax_lr, ax_wd) = plt.subplots(1, 2, figsize=(14, 5), sharex=True)\n",
        "\n",
        "# ---------------------------\n",
        "# Left Plot: Learning Rate vs. F1 Score\n",
        "# ---------------------------\n",
        "# Plot F1 score bars on primary axis (blue)\n",
        "ax_lr.bar(x - bar_width/2, f1_scores, bar_width, color='blue', label='F1 Score')\n",
        "ax_lr.set_xlabel('Trial', fontsize=12, fontweight='bold')\n",
        "ax_lr.set_ylabel('F1 Score', color='blue', fontsize=12, fontweight='bold')\n",
        "ax_lr.tick_params(axis='y', labelcolor='blue')\n",
        "ax_lr.set_title('Learning Rate vs F1 Score', fontsize=15, fontweight='bold')\n",
        "ax_lr.set_xticks(x)\n",
        "ax_lr.set_xticklabels(trials)\n",
        "\n",
        "# Twin axis for learning rate bars (red)\n",
        "ax_lr2 = ax_lr.twinx()\n",
        "ax_lr2.bar(x + bar_width/2, learning_rates, bar_width, color='red', label='Learning Rate')\n",
        "ax_lr2.set_ylabel('Learning Rate', color='red', fontsize=12, fontweight='bold')\n",
        "ax_lr2.tick_params(axis='y', labelcolor='red')\n",
        "\n",
        "# ---------------------------\n",
        "# Right Plot: Weight Decay vs. F1 Score\n",
        "# ---------------------------\n",
        "# Plot F1 score bars on primary axis (blue)\n",
        "ax_wd.bar(x - bar_width/2, f1_scores, bar_width, color='blue', label='F1 Score')\n",
        "ax_wd.set_xlabel('Trial', fontsize=12, fontweight='bold')\n",
        "ax_wd.set_ylabel('F1 Score', color='blue', fontsize=12, fontweight='bold')\n",
        "ax_wd.tick_params(axis='y', labelcolor='blue')\n",
        "ax_wd.set_title('Weight Decay vs F1 Score', fontsize=15, fontweight='bold')\n",
        "ax_wd.set_xticks(x)\n",
        "ax_wd.set_xticklabels(trials)\n",
        "\n",
        "# Twin axis for weight decay bars (green)\n",
        "ax_wd2 = ax_wd.twinx()\n",
        "ax_wd2.bar(x + bar_width/2, weight_decays, bar_width, color='green', label='Weight Decay')\n",
        "ax_wd2.set_ylabel('Weight Decay', color='green', fontsize=12, fontweight='bold')\n",
        "ax_wd2.tick_params(axis='y', labelcolor='green')\n",
        "\n",
        "plt.tight_layout()\n",
        "plt.show()\n",
        "# Scale factor for learning rates to make them visible in the plot\n",
        "\n",
        "\n",
        "\n"
      ]
    },
    {
      "cell_type": "markdown",
      "metadata": {},
      "source": [
        "**TEST WEIGHTED RANDOM SAMPLER WITH DEBERTA**"
      ]
    },
    {
      "cell_type": "code",
      "execution_count": 8,
      "metadata": {},
      "outputs": [],
      "source": [
        "\n",
        "model = DebertaForSequenceClassification.from_pretrained(\"./deberta_WS_model\")\n",
        "tokenizer = DebertaTokenizer.from_pretrained(\"./deberta_WS_model\")"
      ]
    },
    {
      "cell_type": "code",
      "execution_count": 9,
      "metadata": {},
      "outputs": [],
      "source": [
        "columns = ['par_id', 'art_id', 'keyword', 'country_code', 'text', 'label']\n",
        "def tokenize_function(text):\n",
        "    return tokenizer(text, truncation=True, padding=\"max_length\", max_length=512, return_tensors=\"pt\")\n",
        "\n",
        "df_dev = pd.read_csv(\"dev_semeval_parids-labels.csv\")\n",
        "df_texts = pd.read_csv(\"dontpatronizeme_pcl.tsv\", sep=\"\\t\", header=None, names=columns)\n",
        "\n",
        "df_dev[\"par_id\"] = df_dev[\"par_id\"].astype(str)\n",
        "df_texts[\"par_id\"] = df_texts[\"par_id\"].astype(str)\n",
        "\n",
        "df_dev = df_dev.drop(columns=[\"label\"])\n",
        "df_texts[\"binary_label\"] = df_texts[\"label\"].apply(lambda x: 1 if x >= 2 else 0)\n",
        "df_texts = df_texts.drop(columns=[\"label\"])\n",
        "\n",
        "# Merge datasets on paragraph ID and rename the binary label to \"label\"\n",
        "df_dev = df_dev.merge(df_texts, on=\"par_id\", how=\"left\")\n",
        "df_dev.rename(columns={\"binary_label\": \"label\"}, inplace=True)\n",
        "df_dev = df_dev.dropna(subset=[\"text\", \"label\"])  # Drop rows with missing data\n",
        "\n",
        "df_dev = df_dev.dropna(subset=[\"text\", \"label\"])\n",
        "def clean_text(text):\n",
        "    # text = re.sub(r\"\\s+\", \" \", text)  # Remove extra spaces\n",
        "    # text = re.sub(r\"[^a-zA-Z0-9.,!?'\\\"]\", \" \", text)  # Remove special characters\n",
        "    text = re.sub(r\"\\s+\", \" \", text)\n",
        "    return text.strip()\n",
        "\n",
        "# Ensure text column has no NaN values before applying text cleaning\n",
        "df_dev[\"text\"] = df_dev[\"text\"].astype(str).apply(clean_text)\n",
        "def tokenize_function(text):\n",
        "    return tokenizer(text, truncation=True, padding=\"max_length\", max_length=512, return_tensors=\"pt\")\n",
        "\n",
        "# Tokenize the texts and stack tensors\n",
        "df_dev[\"tokenized\"] = df_dev[\"text\"].apply(lambda x: tokenize_function(x))\n",
        "\n",
        "dev_input_ids = torch.cat([t[\"input_ids\"] for t in df_dev[\"tokenized\"]], dim=0)\n",
        "dev_attention_masks = torch.cat([t[\"attention_mask\"] for t in df_dev[\"tokenized\"]], dim=0)\n",
        "dev_labels = torch.tensor(df_dev[\"label\"].values, dtype=torch.long)\n",
        "\n",
        "df_dev[\"tokenized\"] = df_dev[\"text\"].apply(lambda x: tokenize_function(x))\n",
        "class PCLDataset(Dataset):\n",
        "    def __init__(self, input_ids, attention_masks, labels):\n",
        "        self.input_ids = input_ids\n",
        "        self.attention_masks = attention_masks\n",
        "        self.labels = labels\n",
        "\n",
        "    def __len__(self):\n",
        "        return len(self.labels)\n",
        "\n",
        "    def __getitem__(self, idx):\n",
        "        return {\n",
        "            \"input_ids\": self.input_ids[idx],\n",
        "            \"attention_mask\": self.attention_masks[idx],\n",
        "            \"labels\": self.labels[idx],\n",
        "        }\n",
        "\n",
        "# Create a Dataset instance (assuming you have a PCLDataset defined similarly)\n",
        "dev_dataset = PCLDataset(dev_input_ids, dev_attention_masks, dev_labels)\n"
      ]
    },
    {
      "cell_type": "code",
      "execution_count": null,
      "metadata": {},
      "outputs": [],
      "source": [
        "final_training_args = TrainingArguments(\n",
        "       output_dir=\"./results\",\n",
        "       learning_rate=9.468961305919929e-06,\n",
        "       optim=\"adamw_torch\",\n",
        "       warmup_ratio=0.1,\n",
        "       evaluation_strategy=\"epoch\",\n",
        "       save_strategy=\"no\", # change to no\n",
        "       per_device_train_batch_size=4,  # Reduce from 8 or 16 to 4 or even 2\n",
        "       per_device_eval_batch_size=4,   # Match train batch size\n",
        "       num_train_epochs=2,\n",
        "       weight_decay=0.03430359963348227,\n",
        "       logging_dir=\"./logs\",\n",
        "       logging_steps=50,\n",
        "       save_total_limit=2,\n",
        "       lr_scheduler_type=\"linear\",\n",
        "       load_best_model_at_end=False,\n",
        "       metric_for_best_model=\"f1\",\n",
        "       report_to=\"none\",\n",
        "       fp16=False,  # Enables mixed precision training (reduces memory usage)\n",
        "       bf16=False,  # Keep this False unless on Ampere GPUs (A100, RTX 30xx)\n",
        "   )\n",
        "\n",
        "final_trainer = WeightedSamplerTrainer(\n",
        "    model=model,\n",
        "    args=final_training_args,\n",
        "    train_dataset=train_dataset,\n",
        "    eval_dataset=dev_dataset,\n",
        "    compute_metrics=compute_metrics\n",
        "\n",
        ")\n",
        "\n",
        "final_results = final_trainer.evaluate()\n",
        "print(\"Final evaluation results:\", final_results)"
      ]
    }
  ],
  "metadata": {
    "accelerator": "GPU",
    "colab": {
      "gpuType": "T4",
      "provenance": []
    },
    "kernelspec": {
      "display_name": ".venv",
      "language": "python",
      "name": "python3"
    },
    "language_info": {
      "codemirror_mode": {
        "name": "ipython",
        "version": 3
      },
      "file_extension": ".py",
      "mimetype": "text/x-python",
      "name": "python",
      "nbconvert_exporter": "python",
      "pygments_lexer": "ipython3",
      "version": "3.12.3"
    }
  },
  "nbformat": 4,
  "nbformat_minor": 0
}
